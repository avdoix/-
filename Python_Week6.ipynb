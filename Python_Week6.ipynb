{
 "cells": [
  {
   "cell_type": "markdown",
   "id": "4c3883ba",
   "metadata": {},
   "source": [
    "# 제어문"
   ]
  },
  {
   "cell_type": "markdown",
   "id": "d5a9fddb",
   "metadata": {},
   "source": [
    "c535326 이현민"
   ]
  },
  {
   "cell_type": "markdown",
   "id": "fecc873d",
   "metadata": {},
   "source": [
    "### 분기문"
   ]
  },
  {
   "cell_type": "code",
   "execution_count": 27,
   "id": "08306f69",
   "metadata": {},
   "outputs": [
    {
     "name": "stdout",
     "output_type": "stream",
     "text": [
      "조건이 참입니다.\n",
      "조건문이 종료되었습니다.\n"
     ]
    }
   ],
   "source": [
    "if True: \n",
    "    print('조건이 참입니다.')\n",
    "print('조건문이 종료되었습니다.')"
   ]
  },
  {
   "cell_type": "code",
   "execution_count": 28,
   "id": "4ff5eaec",
   "metadata": {},
   "outputs": [
    {
     "name": "stdout",
     "output_type": "stream",
     "text": [
      "조건문이 종료되었습니다.\n"
     ]
    }
   ],
   "source": [
    "if False:\n",
    "    print('조건이 참입니다.')\n",
    "print('조건문이 종료되었습니다.')"
   ]
  },
  {
   "cell_type": "markdown",
   "id": "6421b244",
   "metadata": {},
   "source": [
    "### if문"
   ]
  },
  {
   "cell_type": "code",
   "execution_count": 29,
   "id": "8ac47eb1",
   "metadata": {},
   "outputs": [
    {
     "name": "stdout",
     "output_type": "stream",
     "text": [
      "걸어간다.\n"
     ]
    }
   ],
   "source": [
    "money = 100\n",
    "\n",
    "if money <= 500:\n",
    "    print('걸어간다.')"
   ]
  },
  {
   "cell_type": "markdown",
   "id": "ea5893d9",
   "metadata": {},
   "source": [
    "### if-else문"
   ]
  },
  {
   "cell_type": "code",
   "execution_count": 30,
   "id": "f16468ee",
   "metadata": {},
   "outputs": [
    {
     "name": "stdout",
     "output_type": "stream",
     "text": [
      "택시탄다.\n"
     ]
    }
   ],
   "source": [
    "money = 1000\n",
    "\n",
    "if money <= 500:\n",
    "    print('걸어간다')\n",
    "else:\n",
    "    print('택시탄다.')"
   ]
  },
  {
   "cell_type": "markdown",
   "id": "a8081d22",
   "metadata": {},
   "source": [
    "### if-elif-else문"
   ]
  },
  {
   "cell_type": "code",
   "execution_count": 31,
   "id": "d30dff7d",
   "metadata": {},
   "outputs": [
    {
     "name": "stdout",
     "output_type": "stream",
     "text": [
      "버스탄다.\n"
     ]
    }
   ],
   "source": [
    "money = 1000\n",
    "\n",
    "if money <= 500:\n",
    "    print('걸어간다')\n",
    "elif money <= 2500:\n",
    "    print('버스탄다.')\n",
    "else:\n",
    "    print('택시탄다.')"
   ]
  },
  {
   "cell_type": "markdown",
   "id": "10a2d722",
   "metadata": {},
   "source": [
    "### While 문"
   ]
  },
  {
   "cell_type": "code",
   "execution_count": 32,
   "id": "b19c817a",
   "metadata": {},
   "outputs": [
    {
     "name": "stdout",
     "output_type": "stream",
     "text": [
      "n= 1\n",
      "n= 2\n",
      "n= 3\n",
      "n= 4\n",
      "n= 5\n"
     ]
    }
   ],
   "source": [
    "n=0\n",
    "\n",
    "while n<5:\n",
    "    n=n+1\n",
    "    print(\"n=\",n)"
   ]
  },
  {
   "cell_type": "code",
   "execution_count": 33,
   "id": "65d5c2aa",
   "metadata": {},
   "outputs": [
    {
     "name": "stdout",
     "output_type": "stream",
     "text": [
      "n= 0\n",
      "n= 1\n",
      "n= 2\n",
      "n= 3\n",
      "n= 4\n"
     ]
    }
   ],
   "source": [
    "n=0\n",
    "\n",
    "while n<5:\n",
    "    print(\"n=\",n)\n",
    "    n=n+1  #순서가 바뀌면 결과값도 바뀐다."
   ]
  },
  {
   "cell_type": "markdown",
   "id": "64881f8b",
   "metadata": {},
   "source": [
    "### for 문"
   ]
  },
  {
   "cell_type": "code",
   "execution_count": 34,
   "id": "e1f802a4",
   "metadata": {},
   "outputs": [
    {
     "name": "stdout",
     "output_type": "stream",
     "text": [
      "n= 0\n",
      "n= 1\n",
      "n= 2\n",
      "n= 3\n",
      "n= 4\n",
      "n= 5\n"
     ]
    }
   ],
   "source": [
    "for n in range(0,6):\n",
    "    print(\"n=\", n)"
   ]
  },
  {
   "cell_type": "code",
   "execution_count": 35,
   "id": "2a206528",
   "metadata": {},
   "outputs": [
    {
     "name": "stdout",
     "output_type": "stream",
     "text": [
      "item = 1\n",
      "item = 2\n",
      "item = 3\n",
      "item = 4\n",
      "item = 5\n"
     ]
    }
   ],
   "source": [
    "x_list = [1,2,3,4,5]\n",
    "\n",
    "for item in x_list:\n",
    "    print(f'{item = }')"
   ]
  },
  {
   "cell_type": "code",
   "execution_count": 36,
   "id": "2cadeab1",
   "metadata": {},
   "outputs": [
    {
     "name": "stdout",
     "output_type": "stream",
     "text": [
      "<built-in function len>(x) = 5\n",
      "<built-in function max>(x) = 50\n",
      "<built-in function sum>(x) = 150\n"
     ]
    }
   ],
   "source": [
    "x = [10,20,30,40,50]  #함수도 for문(반복)으로 돌릴수 있음(=> 함수명을 list로 작성후 method로 불러오기)\n",
    "for method in [len, max, sum]:\n",
    "    print(f'{method}(x) = {method(x)}')"
   ]
  },
  {
   "cell_type": "markdown",
   "id": "34332250",
   "metadata": {},
   "source": [
    "### enumerate() -> for문 "
   ]
  },
  {
   "cell_type": "code",
   "execution_count": 37,
   "id": "984084c7",
   "metadata": {},
   "outputs": [
    {
     "name": "stdout",
     "output_type": "stream",
     "text": [
      "item = (0, 'a')\n",
      "item = (1, 'b')\n",
      "item = (2, 'c')\n",
      "item = (3, 'd')\n",
      "item = (4, 'e')\n"
     ]
    }
   ],
   "source": [
    "for item in enumerate(['a','b','c','d','e']):\n",
    "    print(f'{item = }')"
   ]
  },
  {
   "cell_type": "markdown",
   "id": "2beede97",
   "metadata": {},
   "source": [
    "### zip() -> for문"
   ]
  },
  {
   "cell_type": "code",
   "execution_count": 38,
   "id": "bd27fe34",
   "metadata": {},
   "outputs": [
    {
     "data": {
      "text/plain": [
       "<zip at 0x28ae44b3500>"
      ]
     },
     "execution_count": 38,
     "metadata": {},
     "output_type": "execute_result"
    }
   ],
   "source": [
    "x_list = [1,2,3,4,5]\n",
    "y_tuple = ('a','b','c','d','e')\n",
    "z_str = 'ABCDE'\n",
    "\n",
    "zip(x_list,y_tuple,z_str)"
   ]
  },
  {
   "cell_type": "code",
   "execution_count": 39,
   "id": "a4f2d2fb",
   "metadata": {},
   "outputs": [
    {
     "data": {
      "text/plain": [
       "[(1, 'a', 'A'), (2, 'b', 'B'), (3, 'c', 'C'), (4, 'd', 'D'), (5, 'e', 'E')]"
      ]
     },
     "execution_count": 39,
     "metadata": {},
     "output_type": "execute_result"
    }
   ],
   "source": [
    "list(zip(x_list,y_tuple,z_str))"
   ]
  },
  {
   "cell_type": "code",
   "execution_count": 40,
   "id": "8e5aeb46",
   "metadata": {},
   "outputs": [
    {
     "name": "stdout",
     "output_type": "stream",
     "text": [
      "x = 1, y = 'a', z = 'A'\n",
      "x = 2, y = 'b', z = 'B'\n",
      "x = 3, y = 'c', z = 'C'\n",
      "x = 4, y = 'd', z = 'D'\n",
      "x = 5, y = 'e', z = 'E'\n"
     ]
    }
   ],
   "source": [
    "for x,y,z in zip(x_list,y_tuple,z_str):\n",
    "    print(f'{x = }, {y = }, {z = }')"
   ]
  },
  {
   "cell_type": "code",
   "execution_count": 41,
   "id": "97b67d39",
   "metadata": {},
   "outputs": [
    {
     "name": "stdout",
     "output_type": "stream",
     "text": [
      "i = 0, x = 1, y = 'a', z = 'A'\n",
      "i = 1, x = 2, y = 'b', z = 'B'\n",
      "i = 2, x = 3, y = 'c', z = 'C'\n",
      "i = 3, x = 4, y = 'd', z = 'D'\n",
      "i = 4, x = 5, y = 'e', z = 'E'\n"
     ]
    }
   ],
   "source": [
    "for i, (x,y,z) in enumerate(zip(x_list,y_tuple,z_str)):\n",
    "    print(f'{i = }, {x = }, {y = }, {z = }')"
   ]
  },
  {
   "cell_type": "markdown",
   "id": "d7a965a3",
   "metadata": {},
   "source": [
    "### 제어문 통제"
   ]
  },
  {
   "cell_type": "code",
   "execution_count": 42,
   "id": "7c741568",
   "metadata": {},
   "outputs": [
    {
     "name": "stdout",
     "output_type": "stream",
     "text": [
      "i = 0, item = 'a'\n",
      "i = 1, item = 'b'\n"
     ]
    }
   ],
   "source": [
    "for i, item in enumerate(['a','b','c','d','e']):\n",
    "    if i ==2:\n",
    "        break\n",
    "    print(f'{i = }, {item = }')"
   ]
  },
  {
   "cell_type": "code",
   "execution_count": 43,
   "id": "3382161a",
   "metadata": {},
   "outputs": [
    {
     "name": "stdout",
     "output_type": "stream",
     "text": [
      "i = 0, item = 'a'\n",
      "i = 1, item = 'b'\n",
      "i = 3, item = 'd'\n",
      "i = 4, item = 'e'\n"
     ]
    }
   ],
   "source": [
    "for i, item in enumerate(['a','b','c','d','e']):\n",
    "    if i == 2:\n",
    "        continue\n",
    "    print(f'{i = }, {item = }')"
   ]
  },
  {
   "cell_type": "code",
   "execution_count": 44,
   "id": "1ed1fd88",
   "metadata": {},
   "outputs": [
    {
     "name": "stdout",
     "output_type": "stream",
     "text": [
      "i = 0, item = 'b'\n",
      "i = 1, item = 'e'\n",
      "i = 2, item = 'a'\n",
      "i = 3, item = 'd'\n",
      "i = 4, item = 'c'\n"
     ]
    }
   ],
   "source": [
    "for i, item in enumerate({'a','b','c','d','e'}):\n",
    "    if i== 2:\n",
    "        pass\n",
    "    print(f'{i = }, {item = }')"
   ]
  },
  {
   "cell_type": "code",
   "execution_count": 45,
   "id": "dea61202",
   "metadata": {},
   "outputs": [
    {
     "name": "stdout",
     "output_type": "stream",
     "text": [
      "i = 0, item = 'a'\n",
      "i = 1, item = 'b'\n",
      "여기에서 종료\n",
      "i = 2, item = 'c'\n",
      "i = 3, item = 'd'\n",
      "i = 4, item = 'e'\n"
     ]
    }
   ],
   "source": [
    "for i, item in enumerate(['a','b','c','d','e']):\n",
    "    if i== 2:\n",
    "        print('여기에서 종료')\n",
    "    print(f'{i = }, {item = }')"
   ]
  },
  {
   "cell_type": "markdown",
   "id": "f364b737",
   "metadata": {},
   "source": [
    "### 중첩 제어문"
   ]
  },
  {
   "cell_type": "code",
   "execution_count": 46,
   "id": "18c5857f",
   "metadata": {},
   "outputs": [
    {
     "name": "stdout",
     "output_type": "stream",
     "text": [
      "1x1= 1\t2x1= 2\t3x1= 3\t4x1= 4\t5x1= 5\t6x1= 6\t7x1= 7\t8x1= 8\t9x1= 9\t\n",
      "1x2= 2\t2x2= 4\t3x2= 6\t4x2= 8\t5x2=10\t6x2=12\t7x2=14\t8x2=16\t9x2=18\t\n",
      "1x3= 3\t2x3= 6\t3x3= 9\t4x3=12\t5x3=15\t6x3=18\t7x3=21\t8x3=24\t9x3=27\t\n",
      "1x4= 4\t2x4= 8\t3x4=12\t4x4=16\t5x4=20\t6x4=24\t7x4=28\t8x4=32\t9x4=36\t\n",
      "1x5= 5\t2x5=10\t3x5=15\t4x5=20\t5x5=25\t6x5=30\t7x5=35\t8x5=40\t9x5=45\t\n",
      "1x6= 6\t2x6=12\t3x6=18\t4x6=24\t5x6=30\t6x6=36\t7x6=42\t8x6=48\t9x6=54\t\n",
      "1x7= 7\t2x7=14\t3x7=21\t4x7=28\t5x7=35\t6x7=42\t7x7=49\t8x7=56\t9x7=63\t\n",
      "1x8= 8\t2x8=16\t3x8=24\t4x8=32\t5x8=40\t6x8=48\t7x8=56\t8x8=64\t9x8=72\t\n",
      "1x9= 9\t2x9=18\t3x9=27\t4x9=36\t5x9=45\t6x9=54\t7x9=63\t8x9=72\t9x9=81\t\n"
     ]
    }
   ],
   "source": [
    "for i in range(1,10):\n",
    "    for j in range(1,10):\n",
    "        print(f'{j}x{i}={j*i:>2d}', end='\\t')\n",
    "        if j == 9:\n",
    "            print()"
   ]
  },
  {
   "cell_type": "code",
   "execution_count": 47,
   "id": "6ed78d06",
   "metadata": {},
   "outputs": [
    {
     "name": "stdout",
     "output_type": "stream",
     "text": [
      "20x20=400\t20x18=360\t20x16=320\t20x14=280\t20x12=240\t20x10=200\t20x 8=160\t20x 6=120\t20x 4= 80\t20x 2= 40\t\n",
      "18x20=360\t18x18=324\t18x16=288\t18x14=252\t18x12=216\t18x10=180\t18x 8=144\t18x 6=108\t18x 4= 72\t18x 2= 36\t\n",
      "16x20=320\t16x18=288\t16x16=256\t16x14=224\t16x12=192\t16x10=160\t16x 8=128\t16x 6= 96\t16x 4= 64\t16x 2= 32\t\n",
      "14x20=280\t14x18=252\t14x16=224\t14x14=196\t14x12=168\t14x10=140\t14x 8=112\t14x 6= 84\t14x 4= 56\t14x 2= 28\t\n",
      "12x20=240\t12x18=216\t12x16=192\t12x14=168\t12x12=144\t12x10=120\t12x 8= 96\t12x 6= 72\t12x 4= 48\t12x 2= 24\t\n",
      "10x20=200\t10x18=180\t10x16=160\t10x14=140\t10x12=120\t10x10=100\t10x 8= 80\t10x 6= 60\t10x 4= 40\t10x 2= 20\t\n",
      " 8x20=160\t 8x18=144\t 8x16=128\t 8x14=112\t 8x12= 96\t 8x10= 80\t 8x 8= 64\t 8x 6= 48\t 8x 4= 32\t 8x 2= 16\t\n",
      " 6x20=120\t 6x18=108\t 6x16= 96\t 6x14= 84\t 6x12= 72\t 6x10= 60\t 6x 8= 48\t 6x 6= 36\t 6x 4= 24\t 6x 2= 12\t\n",
      " 4x20= 80\t 4x18= 72\t 4x16= 64\t 4x14= 56\t 4x12= 48\t 4x10= 40\t 4x 8= 32\t 4x 6= 24\t 4x 4= 16\t 4x 2=  8\t\n",
      " 2x20= 40\t 2x18= 36\t 2x16= 32\t 2x14= 28\t 2x12= 24\t 2x10= 20\t 2x 8= 16\t 2x 6= 12\t 2x 4=  8\t 2x 2=  4\t\n"
     ]
    }
   ],
   "source": [
    "for i in range(20,1,-2):\n",
    "    for j in range(20,1,-2):\n",
    "        print(f'{i:>2d}x{j:>2d}={i*j:>3d}', end='\\t')\n",
    "        if j==2:\n",
    "            print()"
   ]
  }
 ],
 "metadata": {
  "kernelspec": {
   "display_name": "base",
   "language": "python",
   "name": "python3"
  },
  "language_info": {
   "codemirror_mode": {
    "name": "ipython",
    "version": 3
   },
   "file_extension": ".py",
   "mimetype": "text/x-python",
   "name": "python",
   "nbconvert_exporter": "python",
   "pygments_lexer": "ipython3",
   "version": "3.12.8"
  }
 },
 "nbformat": 4,
 "nbformat_minor": 5
}
