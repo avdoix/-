{
 "cells": [
  {
   "cell_type": "markdown",
   "metadata": {},
   "source": [
    "# Iterable 자료형"
   ]
  },
  {
   "cell_type": "markdown",
   "metadata": {},
   "source": [
    "c535326 이현민"
   ]
  },
  {
   "cell_type": "markdown",
   "metadata": {},
   "source": [
    "### 인덱싱"
   ]
  },
  {
   "cell_type": "code",
   "execution_count": 465,
   "metadata": {},
   "outputs": [
    {
     "name": "stdout",
     "output_type": "stream",
     "text": [
      "a\n",
      "b\n",
      "list index out of range\n"
     ]
    }
   ],
   "source": [
    "x_list= ['a','b','c','d','e']\n",
    "\n",
    "print(x_list[0]) #파이썬 인덱스는 0부터 시작\n",
    "print(x_list[-4]) #역순으로 배치할때는 음수로 작성\n",
    "\n",
    "try:\n",
    "    print(x_list[5])\n",
    "except IndexError as e:\n",
    "    print(e)  #인덱스 범위를 벗어남 -> 에러"
   ]
  },
  {
   "cell_type": "markdown",
   "metadata": {},
   "source": [
    "### 튜플 인덱싱"
   ]
  },
  {
   "cell_type": "code",
   "execution_count": 466,
   "metadata": {},
   "outputs": [
    {
     "name": "stdout",
     "output_type": "stream",
     "text": [
      "x_tuple =(1, 2, 3, 4, 5) \t=> x_tuple[-1] = 5\n"
     ]
    }
   ],
   "source": [
    "x_tuple = (1,2,3,4,5)\n",
    "print(f'{x_tuple =} \\t=> {x_tuple[-1] = }' )"
   ]
  },
  {
   "cell_type": "markdown",
   "metadata": {},
   "source": [
    "### 딕셔너리 인덱싱"
   ]
  },
  {
   "cell_type": "code",
   "execution_count": 467,
   "metadata": {},
   "outputs": [
    {
     "name": "stdout",
     "output_type": "stream",
     "text": [
      "x_dict ={'name': ['이현민', '홍익대'], 'id': [12345, 56789]} \t=> x_dict[\"name\"][0] = '이현민'\n"
     ]
    }
   ],
   "source": [
    "x_dict = {'name' : ['이현민','홍익대'] , 'id':[12345 , 56789]}\n",
    "print(f'{x_dict =} \\t=> {x_dict[\"name\"][0] = }')"
   ]
  },
  {
   "cell_type": "markdown",
   "metadata": {},
   "source": [
    "### 문자열 인덱싱"
   ]
  },
  {
   "cell_type": "code",
   "execution_count": 468,
   "metadata": {},
   "outputs": [
    {
     "name": "stdout",
     "output_type": "stream",
     "text": [
      "x_str = 'Hello World!' \t=> x_str[2] = 'l'\n"
     ]
    }
   ],
   "source": [
    "x_str = 'Hello World!'\n",
    "print(f'{x_str = } \\t=> {x_str[2] = }')"
   ]
  },
  {
   "cell_type": "markdown",
   "metadata": {},
   "source": [
    "## 슬라이싱"
   ]
  },
  {
   "cell_type": "code",
   "execution_count": 469,
   "metadata": {},
   "outputs": [
    {
     "name": "stdout",
     "output_type": "stream",
     "text": [
      "[1, 2, 3]\n",
      "[]\n",
      "[]\n",
      "[1, 2, 3, 4]\n"
     ]
    }
   ],
   "source": [
    "x_list = [0,1,2,3,4]\n",
    "\n",
    "print(x_list[1:4])\n",
    "print(x_list[1:1])\n",
    "print(x_list[3:1])  \n",
    "\n",
    "try:\n",
    "    print(x_list[1:10])\n",
    "except IndexError as e:\n",
    "    print(e)  #인덱싱과 다르게 범위를 벗어나도 에러가 발생 X"
   ]
  },
  {
   "cell_type": "markdown",
   "metadata": {},
   "source": [
    "### 튜플 슬라이싱"
   ]
  },
  {
   "cell_type": "code",
   "execution_count": 470,
   "metadata": {},
   "outputs": [
    {
     "name": "stdout",
     "output_type": "stream",
     "text": [
      "x_tuple = (1, 2, 3, 4, 5) \t=> x_tuple[-1:-4:-1] = (5, 4, 3)\n"
     ]
    }
   ],
   "source": [
    "x_tuple = (1,2,3,4,5)\n",
    "\n",
    "print(f'{x_tuple = } \\t=> {x_tuple[-1:-4:-1] = }')"
   ]
  },
  {
   "cell_type": "markdown",
   "metadata": {},
   "source": [
    "### 딕셔너리 슬라이싱"
   ]
  },
  {
   "cell_type": "code",
   "execution_count": 471,
   "metadata": {},
   "outputs": [
    {
     "name": "stdout",
     "output_type": "stream",
     "text": [
      "x_dict = {'name': ['이현민', '홍익대'], 'id': [12345, 56789]} \t=> x_dict[\"name\"][0:1] = ['이현민']\n"
     ]
    }
   ],
   "source": [
    "x_dict = {'name': ['이현민', '홍익대'], 'id':[12345, 56789]}\n",
    "\n",
    "print(f'{x_dict = } \\t=> {x_dict[\"name\"][0:1] = }')"
   ]
  },
  {
   "cell_type": "markdown",
   "metadata": {},
   "source": [
    "### 얕은 복사"
   ]
  },
  {
   "cell_type": "code",
   "execution_count": 472,
   "metadata": {},
   "outputs": [
    {
     "name": "stdout",
     "output_type": "stream",
     "text": [
      "x =[1, 2, 3] \t ==> id(x) = 2218305420992\n",
      "y =[1, 2, 3] \t ==> id(y) = 2218305420992\n"
     ]
    }
   ],
   "source": [
    "x = [1,2,3]\n",
    "y=x\n",
    "print(f'{x =} \\t ==> {id(x) = }')\n",
    "print(f'{y =} \\t ==> {id(y) = }')"
   ]
  },
  {
   "cell_type": "code",
   "execution_count": 473,
   "metadata": {},
   "outputs": [
    {
     "name": "stdout",
     "output_type": "stream",
     "text": [
      "x =[1, 20, 3] \t ==> id(x) = 2218305420992\n",
      "y =[1, 20, 3] \t ==> id(y) = 2218305420992\n"
     ]
    }
   ],
   "source": [
    "y[1] = 20\n",
    "\n",
    "print(f'{x =} \\t ==> {id(x) = }')\n",
    "print(f'{y =} \\t ==> {id(y) = }')"
   ]
  },
  {
   "cell_type": "markdown",
   "metadata": {},
   "source": [
    "### 깊은 복사"
   ]
  },
  {
   "cell_type": "code",
   "execution_count": 474,
   "metadata": {},
   "outputs": [
    {
     "name": "stdout",
     "output_type": "stream",
     "text": [
      "x = [1, 2, 3] \t => id(x) = 2218331357952\n",
      "y = [1, 2, 3] \t => id(y) = 2218306670208\n"
     ]
    }
   ],
   "source": [
    "x = [1,2,3]\n",
    "y = x.copy()\n",
    "\n",
    "print(f'{x = } \\t => {id(x) = }')\n",
    "print(f'{y = } \\t => {id(y) = }') "
   ]
  },
  {
   "cell_type": "code",
   "execution_count": 475,
   "metadata": {},
   "outputs": [
    {
     "name": "stdout",
     "output_type": "stream",
     "text": [
      "x =[1, 2, 3] \t ==> id(x) = 2218331357952\n",
      "y =[1, 20, 3] \t ==> id(y) = 2218306670208\n"
     ]
    }
   ],
   "source": [
    "y[1] = 20\n",
    "\n",
    "print(f'{x =} \\t ==> {id(x) = }')\n",
    "print(f'{y =} \\t ==> {id(y) = }')  #y값이 변해도 x값은 변하지 않음"
   ]
  },
  {
   "cell_type": "markdown",
   "metadata": {},
   "source": [
    "# 리스트&튜플"
   ]
  },
  {
   "cell_type": "code",
   "execution_count": 476,
   "metadata": {},
   "outputs": [
    {
     "name": "stdout",
     "output_type": "stream",
     "text": [
      "x_list는 <class 'list'>이고, x_tuple은 <class 'tuple'>이다.\n"
     ]
    }
   ],
   "source": [
    "x_list = [1,2,3,4,5]\n",
    "x_tuple = (1,2,3,4,5)\n",
    "\n",
    "print(f'x_list는 {type(x_list)}이고, x_tuple은 {type(x_tuple)}이다.')"
   ]
  },
  {
   "cell_type": "code",
   "execution_count": 477,
   "metadata": {},
   "outputs": [
    {
     "name": "stdout",
     "output_type": "stream",
     "text": [
      "Before: x_list = [1, 2, 3, 4, 5]\n",
      "After : x_list = [1, '2', 3, 5]\n"
     ]
    }
   ],
   "source": [
    "print(f'Before: {x_list = }')\n",
    "\n",
    "try:\n",
    "    x_list[1] = '2'\n",
    "    del x_list[3]\n",
    "except TypeError as e:\n",
    "    print(f'Error : {e}')\n",
    "\n",
    "print(f'After : {x_list = }')  #list 는 mutable이므로 변경 가능"
   ]
  },
  {
   "cell_type": "code",
   "execution_count": 478,
   "metadata": {},
   "outputs": [
    {
     "name": "stdout",
     "output_type": "stream",
     "text": [
      "Before: x_tuple = (1, 2, 3, 4, 5)\n",
      "Error : 'tuple' object does not support item assignment\n",
      "Error : 'tuple' object doesn't support item deletion\n",
      "After : x_tuple = (1, 2, 3, 4, 5)\n"
     ]
    }
   ],
   "source": [
    "print(f'Before: {x_tuple = }')\n",
    "\n",
    "try:\n",
    "    x_tuple[1] = '2'\n",
    "    del x_tuple[3]\n",
    "except TypeError as e:\n",
    "    print(f'Error : {e}')\n",
    "\n",
    "try:\n",
    "    del x_tuple[3]\n",
    "except TypeError as e:\n",
    "    print(f'Error : {e}')\n",
    "\n",
    "print(f'After : {x_tuple = }')  #tuple은 immutable이므로 변경 불가능"
   ]
  },
  {
   "cell_type": "markdown",
   "metadata": {},
   "source": [
    "# 내장함수(built-in)"
   ]
  },
  {
   "cell_type": "code",
   "execution_count": 479,
   "metadata": {},
   "outputs": [
    {
     "name": "stdout",
     "output_type": "stream",
     "text": [
      "len(x_list) = 5\n",
      "sum(x_list) = 10\n",
      "min(x_list) = 0\n",
      "max(x_list) = 4\n",
      "sorted(x_list) = [0, 1, 2, 3, 4]\n",
      "all(x_list) = False\n",
      "any(x_list) = True\n"
     ]
    }
   ],
   "source": [
    "x_list =[0,1,2,3,4]\n",
    "\n",
    "print(f'{len(x_list) = }')\n",
    "print(f'{sum(x_list) = }')\n",
    "print(f'{min(x_list) = }')\n",
    "print(f'{max(x_list) = }')\n",
    "print(f'{sorted(x_list) = }')\n",
    "print(f'{all(x_list) = }')\n",
    "print(f'{any(x_list) = }')"
   ]
  },
  {
   "cell_type": "code",
   "execution_count": 480,
   "metadata": {},
   "outputs": [
    {
     "data": {
      "text/plain": [
       "['가', 'a', 'A']"
      ]
     },
     "execution_count": 480,
     "metadata": {},
     "output_type": "execute_result"
    }
   ],
   "source": [
    "a = ['A', 'a', '가']\n",
    "a.reverse()\n",
    "a"
   ]
  },
  {
   "cell_type": "markdown",
   "metadata": {},
   "source": [
    "### 객체 메서드"
   ]
  },
  {
   "cell_type": "code",
   "execution_count": 481,
   "metadata": {},
   "outputs": [
    {
     "name": "stdout",
     "output_type": "stream",
     "text": [
      "['__add__', '__class__', '__class_getitem__', '__contains__', '__delattr__', '__delitem__', '__dir__', '__doc__', '__eq__', '__format__', '__ge__', '__getattribute__', '__getitem__', '__getstate__', '__gt__', '__hash__', '__iadd__', '__imul__', '__init__', '__init_subclass__', '__iter__', '__le__', '__len__', '__lt__', '__mul__', '__ne__', '__new__', '__reduce__', '__reduce_ex__', '__repr__', '__reversed__', '__rmul__', '__setattr__', '__setitem__', '__sizeof__', '__str__', '__subclasshook__', 'append', 'clear', 'copy', 'count', 'extend', 'index', 'insert', 'pop', 'remove', 'reverse', 'sort']\n",
      "================================================================================\n",
      "['__add__', '__class__', '__class_getitem__', '__contains__', '__delattr__', '__dir__', '__doc__', '__eq__', '__format__', '__ge__', '__getattribute__', '__getitem__', '__getnewargs__', '__getstate__', '__gt__', '__hash__', '__init__', '__init_subclass__', '__iter__', '__le__', '__len__', '__lt__', '__mul__', '__ne__', '__new__', '__reduce__', '__reduce_ex__', '__repr__', '__rmul__', '__setattr__', '__sizeof__', '__str__', '__subclasshook__', 'count', 'index']\n"
     ]
    }
   ],
   "source": [
    "print(dir(x_list), end='\\n'+'='*80+'\\n')\n",
    "print(dir(x_tuple))"
   ]
  },
  {
   "cell_type": "code",
   "execution_count": 482,
   "metadata": {},
   "outputs": [
    {
     "name": "stdout",
     "output_type": "stream",
     "text": [
      "x_list =[1, 2, 3, 4, 5, 2, 3, 2]\n",
      "x_list.count(2) = 3\n",
      "x_list.index(2) = 1\n"
     ]
    }
   ],
   "source": [
    "x_list = [1,2,3,4,5,2,3,2]\n",
    "print(f'{x_list =}')\n",
    "print(f'{x_list.count(2) = }')\n",
    "print(f'{x_list.index(2) = }')"
   ]
  },
  {
   "cell_type": "code",
   "execution_count": 483,
   "metadata": {},
   "outputs": [
    {
     "name": "stdout",
     "output_type": "stream",
     "text": [
      "y_list =[1, 2, 3, 4, 5, 2, 3, 2]\n",
      "x_list is y_list =False\n",
      "id(x_list) = 2218305177344, id(y_list) = 2218305478272\n"
     ]
    }
   ],
   "source": [
    "y_list = x_list.copy()\n",
    "print(f'{y_list =}')\n",
    "print(f'{x_list is y_list =}')\n",
    "print(f'{id(x_list) = }, {id(y_list) = }')"
   ]
  },
  {
   "cell_type": "code",
   "execution_count": 484,
   "metadata": {},
   "outputs": [
    {
     "name": "stdout",
     "output_type": "stream",
     "text": [
      "x_list = [2, 3, 2, 5, 4, 3, 2, 1]\n",
      "x_list = [1, 2, 2, 2, 3, 3, 4, 5]\n"
     ]
    }
   ],
   "source": [
    "x_list.reverse()\n",
    "print(f'{x_list = }')\n",
    "x_list.sort()\n",
    "print(f'{x_list = }')\n"
   ]
  },
  {
   "cell_type": "code",
   "execution_count": 485,
   "metadata": {},
   "outputs": [
    {
     "name": "stdout",
     "output_type": "stream",
     "text": [
      "x_list = [1, 2, 2, 2, 3, 3, 4, 5, 6]\n",
      "x_list = [1, 2, 2, 2, 3, 3, 4, 5, 6, 7, 8, 9]\n",
      "x_list = [1, 2, 2, 2, 3, 3, 4, 5, 6, 7, 8, 9, [10, 11, 12]]\n"
     ]
    }
   ],
   "source": [
    "x_list.append(6)\n",
    "print(f'{x_list = }')\n",
    "x_list.extend([7,8,9])\n",
    "print(f'{x_list = }')\n",
    "x_list.append([10,11,12])\n",
    "print(f'{x_list = }')"
   ]
  },
  {
   "cell_type": "code",
   "execution_count": 486,
   "metadata": {},
   "outputs": [
    {
     "name": "stdout",
     "output_type": "stream",
     "text": [
      "x_list = [1, 2, 2, 3.5, 2, 3, 3, 4, 5, 6, 7, 8, 9, [10, 11, 12]]\n",
      "x_list = [1, 2, 2, 2, 3, 3, 4, 5, 6, 7, 8, 9, [10, 11, 12]]\n"
     ]
    }
   ],
   "source": [
    "x_list.insert(3,3.5)\n",
    "print(f'{x_list = }')\n",
    "x_list.remove(3.5)\n",
    "print(f'{x_list = }')"
   ]
  },
  {
   "cell_type": "code",
   "execution_count": 487,
   "metadata": {},
   "outputs": [
    {
     "name": "stdout",
     "output_type": "stream",
     "text": [
      "x_list = [1, 2, 2, 2, 3, 3, 4, 5, 6, 7, 8, 9]\n",
      "x_list = [1, 2, 2, 2, 3, 3, 4, 6, 7, 8, 9]\n",
      "x_list = [2, 2, 2, 3, 3, 4, 6, 7, 8, 9], x_pop =1\n"
     ]
    }
   ],
   "source": [
    "x_list.pop()\n",
    "print(f'{x_list = }')\n",
    "x_list.pop(7)\n",
    "print(f'{x_list = }')\n",
    "x_pop = x_list.pop(0)\n",
    "print(f'{x_list = }, {x_pop =}')"
   ]
  },
  {
   "cell_type": "code",
   "execution_count": 488,
   "metadata": {},
   "outputs": [
    {
     "name": "stdout",
     "output_type": "stream",
     "text": [
      "x_list = []\n"
     ]
    }
   ],
   "source": [
    "x_list.clear()\n",
    "print(f'{x_list = }')"
   ]
  },
  {
   "cell_type": "code",
   "execution_count": 489,
   "metadata": {},
   "outputs": [
    {
     "name": "stdout",
     "output_type": "stream",
     "text": [
      "Error : name 'x_list' is not defined\n"
     ]
    }
   ],
   "source": [
    "del x_list\n",
    "\n",
    "try:\n",
    "    print(f'{x_list = }')\n",
    "except NameError as e:\n",
    "    print(f'Error : {e}')"
   ]
  },
  {
   "cell_type": "markdown",
   "metadata": {},
   "source": [
    "# String(문자열)"
   ]
  },
  {
   "cell_type": "markdown",
   "metadata": {},
   "source": [
    "### 문자열 인덱싱/슬라이싱"
   ]
  },
  {
   "cell_type": "code",
   "execution_count": 490,
   "metadata": {},
   "outputs": [
    {
     "name": "stdout",
     "output_type": "stream",
     "text": [
      "\n",
      "==== 인덱싱(포인트) ====\n",
      "string[0]='H'\n",
      "string[3]='l'\n",
      "==== 슬라이싱(구간 ====\n",
      "string[0:5]='Hello'\n",
      "string[6:-1]='Phyton! My name is Python I am a Phyton Develope'\n",
      "==== 스텝(간격) ====\n",
      "string[6:12:2]='Pyo'\n",
      "string[::2]='HloPyo!M aei yhnIa  htnDvlpr'\n",
      "string[::-1]='repoleveD notyhP a ma I nohtyP si eman yM !notyhP olleH'\n",
      "\n"
     ]
    }
   ],
   "source": [
    "string = \"Hello Phyton! My name is Python I am a Phyton Developer\"\n",
    "print(f'''\n",
    "==== 인덱싱(포인트) ====\n",
    "{string[0]=}\n",
    "{string[3]=}\n",
    "==== 슬라이싱(구간 ====\n",
    "{string[0:5]=}\n",
    "{string[6:-1]=}\n",
    "==== 스텝(간격) ====\n",
    "{string[6:12:2]=}\n",
    "{string[::2]=}\n",
    "{string[::-1]=}\n",
    "''')"
   ]
  },
  {
   "cell_type": "markdown",
   "metadata": {},
   "source": [
    "### 문자열 연산"
   ]
  },
  {
   "cell_type": "code",
   "execution_count": 491,
   "metadata": {},
   "outputs": [
    {
     "name": "stdout",
     "output_type": "stream",
     "text": [
      "Hello Python!My name is Python.I am a Python Developer\n"
     ]
    }
   ],
   "source": [
    "string = \"Hello Python!\" + \"My name is Python.\" + \"I am a Python Developer\"\n",
    "print(string)"
   ]
  },
  {
   "cell_type": "code",
   "execution_count": 492,
   "metadata": {},
   "outputs": [
    {
     "name": "stdout",
     "output_type": "stream",
     "text": [
      "Hello Python! Hello Python! Hello Python! \n"
     ]
    }
   ],
   "source": [
    "string = \"Hello Python! \" * 3\n",
    "print(string)"
   ]
  },
  {
   "cell_type": "markdown",
   "metadata": {},
   "source": [
    "### 문자열 관련 함수"
   ]
  },
  {
   "cell_type": "code",
   "execution_count": 493,
   "metadata": {},
   "outputs": [
    {
     "name": "stdout",
     "output_type": "stream",
     "text": [
      "22\n",
      "2024 in string\n",
      "csv not in string\n"
     ]
    }
   ],
   "source": [
    "string = \"2024_바이오헬스 교과목 목록.xlsx\"\n",
    "print(len(string))\n",
    "print('2024 in string')\n",
    "print('csv not in string')"
   ]
  },
  {
   "cell_type": "markdown",
   "metadata": {},
   "source": [
    "# Dictionary"
   ]
  },
  {
   "cell_type": "markdown",
   "metadata": {},
   "source": [
    "### Dictionary 생성"
   ]
  },
  {
   "cell_type": "code",
   "execution_count": 494,
   "metadata": {},
   "outputs": [
    {
     "data": {
      "text/plain": [
       "'Max'"
      ]
     },
     "execution_count": 494,
     "metadata": {},
     "output_type": "execute_result"
    }
   ],
   "source": [
    "my_dict = dict() #빈 dictionary\n",
    "my_dict1 = {'name': 'Max', 'age': 28, 'city': 'New York'}\n",
    "my_dict1['name']"
   ]
  },
  {
   "cell_type": "code",
   "execution_count": 495,
   "metadata": {},
   "outputs": [],
   "source": [
    "person_keys = ['name', 'age', 'city']\n",
    "person1_values = [ 'Max', '28', 'New York']\n",
    "person2_values = [ '이현민', '21', '서울']\n"
   ]
  },
  {
   "cell_type": "code",
   "execution_count": 496,
   "metadata": {},
   "outputs": [
    {
     "data": {
      "text/plain": [
       "[('name', 'Max'), ('age', '28'), ('city', 'New York')]"
      ]
     },
     "execution_count": 496,
     "metadata": {},
     "output_type": "execute_result"
    }
   ],
   "source": [
    "list(zip(person_keys, person1_values)) #리스트로 추출(zip 활용)"
   ]
  },
  {
   "cell_type": "code",
   "execution_count": 497,
   "metadata": {},
   "outputs": [
    {
     "data": {
      "text/plain": [
       "{'name': ('Max', '이현민'), 'age': ('28', '21'), 'city': ('New York', '서울')}"
      ]
     },
     "execution_count": 497,
     "metadata": {},
     "output_type": "execute_result"
    }
   ],
   "source": [
    "dict(list(zip(person_keys, zip(person1_values, person2_values))))  #Dictionary로 묶기"
   ]
  },
  {
   "cell_type": "code",
   "execution_count": 498,
   "metadata": {},
   "outputs": [],
   "source": [
    "my_dict_dict = {'A': {'name': 'Max', 'age': 28, 'city': 'New York'},\n",
    "                'B': {'name': 'Mary', 'age':22, 'city': 'Seoul'}}\n",
    "      "
   ]
  },
  {
   "cell_type": "code",
   "execution_count": 499,
   "metadata": {},
   "outputs": [
    {
     "name": "stdout",
     "output_type": "stream",
     "text": [
      "my_dict_dict = {'A': {'name': 'Max', 'age': 28, 'city': 'New York'}, 'B': {'name': 'Mary', 'age': 22, 'city': 'Seoul'}}\n",
      "my_dict_dict[\"A\"] = {'name': 'Max', 'age': 28, 'city': 'New York'}\n",
      "my_dict_dict[\"A\"][\"name\"] = 'Max'\n"
     ]
    }
   ],
   "source": [
    "print(f'{my_dict_dict = }')\n",
    "print(f'{my_dict_dict[\"A\"] = }')\n",
    "print(f'{my_dict_dict[\"A\"][\"name\"] = }')"
   ]
  },
  {
   "cell_type": "markdown",
   "metadata": {},
   "source": [
    "### pprint"
   ]
  },
  {
   "cell_type": "code",
   "execution_count": 500,
   "metadata": {},
   "outputs": [
    {
     "name": "stdout",
     "output_type": "stream",
     "text": [
      "{'A': {'age': 28, 'city': 'New York', 'name': 'Max'},\n",
      " 'B': {'age': 22, 'city': 'Seoul', 'name': 'Mary'}}\n"
     ]
    }
   ],
   "source": [
    "from pprint import pprint\n",
    "pprint(my_dict_dict)"
   ]
  },
  {
   "cell_type": "markdown",
   "metadata": {},
   "source": [
    "### Dictionary 살펴보기"
   ]
  },
  {
   "cell_type": "code",
   "execution_count": 501,
   "metadata": {},
   "outputs": [
    {
     "name": "stdout",
     "output_type": "stream",
     "text": [
      "my_dict1 = {'name': 'Max', 'age': 28, 'city': 'New York'} \n",
      "type(my_dict1) = <class 'dict'>\n",
      "len(my_dict1) = 3\n",
      "True\n",
      "False\n"
     ]
    }
   ],
   "source": [
    "print(f'{my_dict1 = } ')\n",
    "print(f'{type(my_dict1) = }')\n",
    "print(f'{len(my_dict1) = }')\n",
    "print(\"name\" in my_dict1)\n",
    "print(\"Max\" in my_dict1)"
   ]
  },
  {
   "cell_type": "code",
   "execution_count": 502,
   "metadata": {},
   "outputs": [
    {
     "name": "stdout",
     "output_type": "stream",
     "text": [
      "my_dict1[\"name\"] ='Max'\n",
      "KeyError: 'name2'\n"
     ]
    }
   ],
   "source": [
    "print(f'{my_dict1[\"name\"] =}')\n",
    "\n",
    "try:\n",
    "    print(f'{my_dict1[\"name2\"] = }')\n",
    "except KeyError as e:\n",
    "    print(f'KeyError: {e}')"
   ]
  },
  {
   "cell_type": "code",
   "execution_count": 503,
   "metadata": {},
   "outputs": [
    {
     "name": "stdout",
     "output_type": "stream",
     "text": [
      "my_dict_dict[\"A\"][\"name\"] = 'Max'\n"
     ]
    }
   ],
   "source": [
    "print(f'{my_dict_dict[\"A\"][\"name\"] = }')"
   ]
  },
  {
   "cell_type": "markdown",
   "metadata": {},
   "source": [
    "### get() ==> Error 회피"
   ]
  },
  {
   "cell_type": "code",
   "execution_count": 504,
   "metadata": {},
   "outputs": [
    {
     "name": "stdout",
     "output_type": "stream",
     "text": [
      "my_dict1.get(\"name\") = 'Max'\n",
      "my_dict1.get(\"name2\") = None\n",
      "my_dict1.get(\"name2\", \"replacement\") = 'replacement'\n"
     ]
    }
   ],
   "source": [
    "print(f'{my_dict1.get(\"name\") = }')\n",
    "print(f'{my_dict1.get(\"name2\") = }')\n",
    "print(f'{my_dict1.get(\"name2\", \"replacement\") = }')"
   ]
  },
  {
   "cell_type": "code",
   "execution_count": 505,
   "metadata": {},
   "outputs": [
    {
     "name": "stdout",
     "output_type": "stream",
     "text": [
      "my_dict1.get(\"name\", np.nan) = 'Max'\n"
     ]
    }
   ],
   "source": [
    "import numpy as np\n",
    "\n",
    "print(f'{my_dict1.get(\"name\", np.nan) = }')  #numpy 활용(강의록 업데이트 참고)"
   ]
  },
  {
   "cell_type": "code",
   "execution_count": 506,
   "metadata": {},
   "outputs": [
    {
     "data": {
      "text/plain": [
       "[np.float64(0.0), np.float64(2.5), np.float64(5.0), np.float64(7.5)]"
      ]
     },
     "execution_count": 506,
     "metadata": {},
     "output_type": "execute_result"
    }
   ],
   "source": [
    "import numpy as np\n",
    "\n",
    "list(np.arange(0,10,2.5))"
   ]
  },
  {
   "cell_type": "markdown",
   "metadata": {},
   "source": [
    "### Dictionary 요소 추가/삭제"
   ]
  },
  {
   "cell_type": "code",
   "execution_count": 507,
   "metadata": {},
   "outputs": [
    {
     "name": "stdout",
     "output_type": "stream",
     "text": [
      "my_dict1 = {'name': 'Max', 'age': 28, 'city': 'New York'}\n",
      "my_dict1 = {'name': 'Max', 'age': 28, 'city': 'New York', 'id': 123}\n"
     ]
    }
   ],
   "source": [
    "print(f'{my_dict1 = }')\n",
    "my_dict1[\"id\"] = 123\n",
    "print(f'{my_dict1 = }')"
   ]
  },
  {
   "cell_type": "markdown",
   "metadata": {},
   "source": [
    "del -> 삭제O\\반환X \n",
    "pop -> 삭제O\\반환O"
   ]
  },
  {
   "cell_type": "code",
   "execution_count": 508,
   "metadata": {},
   "outputs": [
    {
     "name": "stdout",
     "output_type": "stream",
     "text": [
      "my_dict1 = {'name': 'Max', 'age': 28, 'city': 'New York'}\n"
     ]
    }
   ],
   "source": [
    "del my_dict1[\"id\"]\n",
    "print(f'{my_dict1 = }')"
   ]
  },
  {
   "cell_type": "code",
   "execution_count": 509,
   "metadata": {},
   "outputs": [
    {
     "name": "stdout",
     "output_type": "stream",
     "text": [
      "my_dict1 = {'name': 'Max', 'age': 50, 'city': 'New York', 'affiliation': 'Hongik Univ.'}\n"
     ]
    }
   ],
   "source": [
    "my_dict_more = {\"age\":50, \"affiliation\": \"Hongik Univ.\"}\n",
    "my_dict1.update(my_dict_more)\n",
    "print(f'{my_dict1 = }')"
   ]
  },
  {
   "cell_type": "code",
   "execution_count": 510,
   "metadata": {},
   "outputs": [
    {
     "name": "stdout",
     "output_type": "stream",
     "text": [
      "my_dict1 = {'name': 'Max', 'age': 50, 'city': 'New York'}\n"
     ]
    }
   ],
   "source": [
    "my_dict1.pop(\"affiliation\")\n",
    "print(f'{my_dict1 = }')"
   ]
  },
  {
   "cell_type": "code",
   "execution_count": 511,
   "metadata": {},
   "outputs": [
    {
     "name": "stdout",
     "output_type": "stream",
     "text": [
      "my_dict1 = {'name': 'Max', 'age': 30, 'city': 'New York'}\n"
     ]
    }
   ],
   "source": [
    "my_dict1[\"age\"] = 30\n",
    "print(f'{my_dict1 = }') #하나의 요소만 바꾸기"
   ]
  },
  {
   "cell_type": "code",
   "execution_count": 512,
   "metadata": {},
   "outputs": [
    {
     "name": "stdout",
     "output_type": "stream",
     "text": [
      "my_dict1 = {'name': 'Max', 'age': 40, 'city': 'New York', 'id': 123, 'occupation': 'Data Scientist'}\n"
     ]
    }
   ],
   "source": [
    "my_dict1.update(age = 40,id = 123, occupation = \"Data Scientist\")\n",
    "print(f'{my_dict1 = }')  #update() ==> 한번에 여러 요쇼를 바꾸기"
   ]
  },
  {
   "cell_type": "code",
   "execution_count": 513,
   "metadata": {},
   "outputs": [
    {
     "name": "stdout",
     "output_type": "stream",
     "text": [
      "my_dict1 ={'name': 'Max', 'age': 40, 'city': 'New York', 'id': 123}\n",
      "occupation = 'Data Scientist'\n"
     ]
    }
   ],
   "source": [
    "occupation = my_dict1.pop(\"occupation\")\n",
    "print(f'{my_dict1 =}\\n{occupation = }')"
   ]
  },
  {
   "cell_type": "markdown",
   "metadata": {},
   "source": [
    "### popitem()"
   ]
  },
  {
   "cell_type": "code",
   "execution_count": 514,
   "metadata": {},
   "outputs": [
    {
     "name": "stdout",
     "output_type": "stream",
     "text": [
      "my_dict1 ={'name': 'Max', 'age': 40, 'city': 'New York', 'id': 123}\n",
      "my_dict1 ={'name': 'Max', 'age': 40, 'city': 'New York'}\n",
      "last = ('id', 123)\n",
      "my_dict1 ={'name': 'Max', 'age': 40}\n",
      "last = ('city', 'New York')\n"
     ]
    }
   ],
   "source": [
    "print(f'{my_dict1 =}')\n",
    "\n",
    "last= my_dict1.popitem()\n",
    "print(f'{my_dict1 =}\\n{last = }')\n",
    "\n",
    "last = my_dict1.popitem()\n",
    "print(f'{my_dict1 =}\\n{last = }')"
   ]
  },
  {
   "cell_type": "markdown",
   "metadata": {},
   "source": [
    "### clear()"
   ]
  },
  {
   "cell_type": "code",
   "execution_count": 515,
   "metadata": {},
   "outputs": [
    {
     "name": "stdout",
     "output_type": "stream",
     "text": [
      "my_dict1 = {}\n"
     ]
    }
   ],
   "source": [
    "my_dict1.clear()\n",
    "print(f'{my_dict1 = }')"
   ]
  },
  {
   "cell_type": "markdown",
   "metadata": {},
   "source": [
    "+@"
   ]
  },
  {
   "cell_type": "code",
   "execution_count": 516,
   "metadata": {},
   "outputs": [
    {
     "data": {
      "text/plain": [
       "{'age': 28}"
      ]
     },
     "execution_count": 516,
     "metadata": {},
     "output_type": "execute_result"
    }
   ],
   "source": [
    "my_dict1 = {'age': 'Max', 'age':28 } #'키'의 중복은 안됨{'key':'value'}\n",
    "my_dict1"
   ]
  },
  {
   "cell_type": "code",
   "execution_count": 517,
   "metadata": {},
   "outputs": [
    {
     "data": {
      "text/plain": [
       "{'Name': 'max'}"
      ]
     },
     "execution_count": 517,
     "metadata": {},
     "output_type": "execute_result"
    }
   ],
   "source": [
    "name= 'Name'\n",
    "my_dict1 = {name: 'max'} #문자열이 아닌것을 쓰려면 변수 지정 해줘야됨\n",
    "my_dict1\n"
   ]
  }
 ],
 "metadata": {
  "kernelspec": {
   "display_name": "base",
   "language": "python",
   "name": "python3"
  },
  "language_info": {
   "codemirror_mode": {
    "name": "ipython",
    "version": 3
   },
   "file_extension": ".py",
   "mimetype": "text/x-python",
   "name": "python",
   "nbconvert_exporter": "python",
   "pygments_lexer": "ipython3",
   "version": "3.12.8"
  }
 },
 "nbformat": 4,
 "nbformat_minor": 2
}
