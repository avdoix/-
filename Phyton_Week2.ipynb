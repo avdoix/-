{
 "cells": [
  {
   "cell_type": "code",
   "execution_count": 134,
   "metadata": {},
   "outputs": [
    {
     "name": "stdout",
     "output_type": "stream",
     "text": [
      "['{', '1', ',', '2', ',', '3', ',', '4', ',', '5', '}']\n"
     ]
    }
   ],
   "source": [
    "x=list('{1,2,3,4,5}')\n",
    "print(x)"
   ]
  },
  {
   "cell_type": "code",
   "execution_count": 135,
   "metadata": {},
   "outputs": [
    {
     "name": "stdout",
     "output_type": "stream",
     "text": [
      "산업·데이터공학과\n",
      "2812245606768\n"
     ]
    }
   ],
   "source": [
    "var_x = '산업·데이터공학과'\n",
    "print(var_x)\n",
    "\n",
    "print(id(var_x))"
   ]
  },
  {
   "cell_type": "code",
   "execution_count": 136,
   "metadata": {},
   "outputs": [
    {
     "name": "stdout",
     "output_type": "stream",
     "text": [
      "산업·데이터공학과\n",
      "2812245619488\n"
     ]
    }
   ],
   "source": [
    "var_y = '산업·데이터공학과'\n",
    "print(var_y)\n",
    "print(id(var_y))  "
   ]
  },
  {
   "cell_type": "markdown",
   "metadata": {},
   "source": [
    "=> 변수 x 와 변수 y 가 서로 다르므로\n",
    "데이터가 저장되는 주소도 다름."
   ]
  },
  {
   "cell_type": "markdown",
   "metadata": {},
   "source": [
    "# 함수 데이터값 설정 & 삭제"
   ]
  },
  {
   "cell_type": "code",
   "execution_count": 137,
   "metadata": {},
   "outputs": [
    {
     "name": "stdout",
     "output_type": "stream",
     "text": [
      "Variable   Type    Data/Info\n",
      "----------------------------\n",
      "a          int     12345\n",
      "b          int     20\n",
      "var_x      str     산업·데이터공학과\n",
      "var_y      str     산업·데이터공학과\n",
      "var_z1     int     123\n",
      "var_z2     list    n=5\n",
      "x          list    n=11\n"
     ]
    }
   ],
   "source": [
    "var_z1 = 123\n",
    "var_z2 = [1,2,3,4,5]\n",
    "\n",
    "%whos"
   ]
  },
  {
   "cell_type": "code",
   "execution_count": 138,
   "metadata": {},
   "outputs": [
    {
     "name": "stdout",
     "output_type": "stream",
     "text": [
      "No variables match your requested type.\n"
     ]
    }
   ],
   "source": [
    "del var_x\n",
    "\n",
    "%whos #var_X 데이터 삭제"
   ]
  },
  {
   "cell_type": "markdown",
   "metadata": {},
   "source": [
    "# Input 함수"
   ]
  },
  {
   "cell_type": "code",
   "execution_count": 139,
   "metadata": {},
   "outputs": [],
   "source": [
    "var_x = input('데이터를 입력하세요: ')"
   ]
  },
  {
   "cell_type": "code",
   "execution_count": 140,
   "metadata": {},
   "outputs": [
    {
     "name": "stdout",
     "output_type": "stream",
     "text": [
      "var_x = '123'\n",
      "type(var_x) = <class 'str'>\n"
     ]
    }
   ],
   "source": [
    "print(f'{var_x = }')\n",
    "print(f'{type(var_x) = }')"
   ]
  },
  {
   "cell_type": "markdown",
   "metadata": {},
   "source": [
    "# Print 함수"
   ]
  },
  {
   "cell_type": "code",
   "execution_count": 141,
   "metadata": {},
   "outputs": [
    {
     "name": "stdout",
     "output_type": "stream",
     "text": [
      "13\n",
      "13 이현민 True\n",
      "13 이현민 True\t 25학번"
     ]
    }
   ],
   "source": [
    "print (13)\n",
    "print(13, '이현민', True)\n",
    "print(13, '이현민', True, end='\\t 25학번')"
   ]
  },
  {
   "cell_type": "markdown",
   "metadata": {},
   "source": [
    "# 이스케이프 문자"
   ]
  },
  {
   "cell_type": "code",
   "execution_count": 142,
   "metadata": {},
   "outputs": [
    {
     "name": "stdout",
     "output_type": "stream",
     "text": [
      "이름 : 이현민\n",
      "학번 : 111111\n",
      "학과 : 자율전공학부\n"
     ]
    }
   ],
   "source": [
    "print('이름 : 이현민\\n학번 : 111111\\n학과 : 자율전공학부')\n",
    "# '\\n'으로 줄 바꿔서 작성"
   ]
  },
  {
   "cell_type": "code",
   "execution_count": 143,
   "metadata": {},
   "outputs": [
    {
     "name": "stdout",
     "output_type": "stream",
     "text": [
      "이름\t\t학번\t\t학과\n",
      "이현민\t\t111111\t\t자율전공학부\n"
     ]
    }
   ],
   "source": [
    "print('이름\\t\\t학번\\t\\t학과')\n",
    "print('이현민\\t\\t111111\\t\\t자율전공학부')\n",
    "# '\\t'으로 간격 띄어쓰기"
   ]
  },
  {
   "cell_type": "code",
   "execution_count": 144,
   "metadata": {},
   "outputs": [
    {
     "name": "stdout",
     "output_type": "stream",
     "text": [
      "이름\\이현민\\학번\\111111\\학과\\자율전공학부\n"
     ]
    }
   ],
   "source": [
    "print('이름\\\\이현민\\\\학번\\\\111111\\\\학과\\\\자율전공학부')  \n",
    "#'\\'는 파이썬에서 단독으로 사용하려면 '\\\\'를 사용해야함"
   ]
  },
  {
   "cell_type": "code",
   "execution_count": 145,
   "metadata": {},
   "outputs": [
    {
     "name": "stdout",
     "output_type": "stream",
     "text": [
      "이현민\n",
      "'이현민'\n"
     ]
    }
   ],
   "source": [
    "print('이현민')\n",
    "print('\\'이현민\\'') # ' 를 출력 하려면 \\' 를 사용해야함"
   ]
  },
  {
   "cell_type": "markdown",
   "metadata": {},
   "source": [
    "# f 스트링 "
   ]
  },
  {
   "cell_type": "code",
   "execution_count": 146,
   "metadata": {},
   "outputs": [
    {
     "name": "stdout",
     "output_type": "stream",
     "text": [
      "0.55\n",
      "----------\n",
      "var_x = 0.55\n",
      "----------\n",
      "var_x=0.55 \n"
     ]
    }
   ],
   "source": [
    "var_x = 0.55\n",
    "print(f'{var_x}' ,  end='\\n----------\\n')\n",
    "print(f'{var_x = }' , end='\\n----------\\n')\n",
    "print(f'var_x={var_x} ')"
   ]
  },
  {
   "cell_type": "code",
   "execution_count": 147,
   "metadata": {},
   "outputs": [
    {
     "name": "stdout",
     "output_type": "stream",
     "text": [
      "54321\n"
     ]
    }
   ],
   "source": [
    "var_y = 54321\n",
    "print(f'{var_y}')"
   ]
  },
  {
   "cell_type": "code",
   "execution_count": 148,
   "metadata": {},
   "outputs": [
    {
     "name": "stdout",
     "output_type": "stream",
     "text": [
      "var_x는 정수형이므로 d를 사용하여야 하고, 54321입니다.\n",
      "var_x를 총 20개의 자리에 표현하면,                54321입니다\n",
      "var_y는 실수형이므로 f를 사용하여야 하고, 54321.123456789입니다\n",
      "var_y를 정수만 출력하면 54321입니다\n",
      "var_y를 20자리 가운데 정렬하여 소수점 3자리까지 출력하면      54321.123      입니다\n"
     ]
    }
   ],
   "source": [
    "var_x = 54321\n",
    "var_y = 54321.123456789\n",
    "\n",
    "print(f'var_x는 정수형이므로 d를 사용하여야 하고, {var_x:d}입니다.')\n",
    "print(f'var_x를 총 20개의 자리에 표현하면, {var_x:20d}입니다')\n",
    "print(f'var_y는 실수형이므로 f를 사용하여야 하고, 54321.123456789입니다')\n",
    "print(f'var_y를 정수만 출력하면 {var_y:.0f}입니다')\n",
    "print(f'var_y를 20자리 가운데 정렬하여 소수점 3자리까지 출력하면 {var_y:^20.3f}입니다')\n",
    "\n",
    "#f-string 함수 정렬&정수,실수 표현"
   ]
  }
 ],
 "metadata": {
  "kernelspec": {
   "display_name": "base",
   "language": "python",
   "name": "python3"
  },
  "language_info": {
   "codemirror_mode": {
    "name": "ipython",
    "version": 3
   },
   "file_extension": ".py",
   "mimetype": "text/x-python",
   "name": "python",
   "nbconvert_exporter": "python",
   "pygments_lexer": "ipython3",
   "version": "3.12.8"
  }
 },
 "nbformat": 4,
 "nbformat_minor": 2
}
